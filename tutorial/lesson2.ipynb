{
 "metadata": {
  "language_info": {
   "codemirror_mode": {
    "name": "ipython",
    "version": 3
   },
   "file_extension": ".py",
   "mimetype": "text/x-python",
   "name": "python",
   "nbconvert_exporter": "python",
   "pygments_lexer": "ipython3",
   "version": "3.9.6"
  },
  "orig_nbformat": 2,
  "kernelspec": {
   "name": "python396jvsc74a57bd04cd7ab41f5fca4b9b44701077e38c5ffd31fe66a6cab21e0214b68d958d0e462",
   "display_name": "Python 3.9.6 64-bit"
  },
  "metadata": {
   "interpreter": {
    "hash": "4cd7ab41f5fca4b9b44701077e38c5ffd31fe66a6cab21e0214b68d958d0e462"
   }
  }
 },
 "nbformat": 4,
 "nbformat_minor": 2,
 "cells": [
  {
   "source": [
    "# Lesson 2: 基于Pytorch的手写数字识别\n",
    "\n",
    "手写数字识别是经典的图像分类课题，在CNN网络出现之前，手写数字识别最高达到99.65%（6层全链接网络），非神经网络则通常低于95%，波动极大。而在CNN网络之后，识别准确率就基本大于99%，7层CNN网络的准确率则已较大幅度超过之前的99.65% （http://yann.lecun.com/exdb/mnist/）。\n",
    "\n",
    "尽管手写数字识别已不是当前图像分类领域的主要问题，但其数据集小巧，能够快速训练，快速验证，在今天仍然是图像算法模型预研的基础工具之一。下面我们用Pytorch来实现基于Mnist的数字识别。\n",
    "\n",
    "首先引入相关依赖\n"
   ],
   "cell_type": "markdown",
   "metadata": {}
  },
  {
   "cell_type": "code",
   "execution_count": 2,
   "metadata": {},
   "outputs": [],
   "source": [
    "from __future__ import print_function\n",
    "import argparse\n",
    "import torch\n",
    "import torch.nn as nn\n",
    "import torch.nn.functional as F\n",
    "import torch.optim as optim\n",
    "from torchvision import datasets, transforms\n",
    "from torch.optim.lr_scheduler import StepLR"
   ]
  },
  {
   "source": [
    "然后定义网络结构，在Pytorch中，定义网络结构则等同于定义前向算法，Pytorch会自动处理对应的反向传播实现"
   ],
   "cell_type": "markdown",
   "metadata": {}
  },
  {
   "cell_type": "code",
   "execution_count": 3,
   "metadata": {},
   "outputs": [],
   "source": [
    "class Net(nn.Module):\n",
    "    def __init__(self):\n",
    "        super(Net, self).__init__()\n",
    "        self.conv1 = nn.Conv2d(1, 32, 3, 1)\n",
    "        self.conv2 = nn.Conv2d(32, 64, 3, 1)\n",
    "        self.dropout1 = nn.Dropout(0.25)\n",
    "        self.dropout2 = nn.Dropout(0.5)\n",
    "        self.fc1 = nn.Linear(9216, 128)\n",
    "        self.fc2 = nn.Linear(128, 10)\n",
    "\n",
    "    # 【conv1, relu, conv2, relu, max_pool, dropout, fc1, dropout, fc2, softmax] \n",
    "    def forward(self, x):\n",
    "        x = self.conv1(x)\n",
    "        x = F.relu(x)\n",
    "        x = self.conv2(x)\n",
    "        x = F.relu(x)\n",
    "        x = F.max_pool2d(x, 2)\n",
    "        x = self.dropout1(x)\n",
    "        x = torch.flatten(x, 1)\n",
    "        x = self.fc1(x)\n",
    "        x = F.relu(x)\n",
    "        x = self.dropout2(x)\n",
    "        x = self.fc2(x)\n",
    "        output = F.log_softmax(x, dim=1)\n",
    "        return output\n"
   ]
  },
  {
   "source": [
    "然后定义模型训练过程："
   ],
   "cell_type": "markdown",
   "metadata": {}
  },
  {
   "cell_type": "code",
   "execution_count": 4,
   "metadata": {},
   "outputs": [],
   "source": [
    "\n",
    "def train(model, device, train_loader, optimizer, epoch):\n",
    "    model.train()\n",
    "    for batch_idx, (data, target) in enumerate(train_loader):\n",
    "        data, target = data.to(device), target.to(device)\n",
    "        optimizer.zero_grad()\n",
    "        output = model(data)\n",
    "        loss = F.nll_loss(output, target)\n",
    "        loss.backward()\n",
    "        optimizer.step()\n",
    "        if batch_idx % 10 == 0:\n",
    "            print('Train Epoch: {} [{}/{} ({:.0f}%)]\\tLoss: {:.6f}'.format(\n",
    "                epoch, batch_idx * len(data), len(train_loader.dataset),\n",
    "                100. * batch_idx / len(train_loader), loss.item()))"
   ]
  },
  {
   "source": [
    "每批次模型训练完成后（每个epoch之后），我们可以调用test方法进行验证："
   ],
   "cell_type": "markdown",
   "metadata": {}
  },
  {
   "cell_type": "code",
   "execution_count": 5,
   "metadata": {},
   "outputs": [],
   "source": [
    "def test(model, device, test_loader):\n",
    "    model.eval()\n",
    "    test_loss = 0\n",
    "    correct = 0\n",
    "    with torch.no_grad():\n",
    "        for data, target in test_loader:\n",
    "            data, target = data.to(device), target.to(device)\n",
    "            output = model(data)\n",
    "            test_loss += F.nll_loss(output, target, reduction='sum').item()  # sum up batch loss\n",
    "            pred = output.argmax(dim=1, keepdim=True)  # get the index of the max log-probability\n",
    "            correct += pred.eq(target.view_as(pred)).sum().item()\n",
    "\n",
    "    test_loss /= len(test_loader.dataset)\n",
    "\n",
    "    print('\\nTest set: Average loss: {:.4f}, Accuracy: {}/{} ({:.0f}%)\\n'.format(\n",
    "        test_loss, correct, len(test_loader.dataset),\n",
    "        100. * correct / len(test_loader.dataset)))"
   ]
  },
  {
   "source": [
    "上面定义了卷积网络模型Net、训练方法train、测试方法test，基本工作就完成了，剩下则需要定义一些训练参数（俗称调参），开始训练："
   ],
   "cell_type": "markdown",
   "metadata": {}
  },
  {
   "cell_type": "code",
   "execution_count": 6,
   "metadata": {},
   "outputs": [
    {
     "output_type": "display_data",
     "data": {
      "text/plain": "<Figure size 432x288 with 7 Axes>",
      "image/svg+xml": "<?xml version=\"1.0\" encoding=\"utf-8\" standalone=\"no\"?>\n<!DOCTYPE svg PUBLIC \"-//W3C//DTD SVG 1.1//EN\"\n  \"http://www.w3.org/Graphics/SVG/1.1/DTD/svg11.dtd\">\n<svg xmlns:xlink=\"http://www.w3.org/1999/xlink\" width=\"349.2pt\" height=\"70.347393pt\" viewBox=\"0 0 349.2 70.347393\" xmlns=\"http://www.w3.org/2000/svg\" version=\"1.1\">\n <metadata>\n  <rdf:RDF xmlns:dc=\"http://purl.org/dc/elements/1.1/\" xmlns:cc=\"http://creativecommons.org/ns#\" xmlns:rdf=\"http://www.w3.org/1999/02/22-rdf-syntax-ns#\">\n   <cc:Work>\n    <dc:type rdf:resource=\"http://purl.org/dc/dcmitype/StillImage\"/>\n    <dc:date>2022-06-17T11:46:24.557216</dc:date>\n    <dc:format>image/svg+xml</dc:format>\n    <dc:creator>\n     <cc:Agent>\n      <dc:title>Matplotlib v3.5.2, https://matplotlib.org/</dc:title>\n     </cc:Agent>\n    </dc:creator>\n   </cc:Work>\n  </rdf:RDF>\n </metadata>\n <defs>\n  <style type=\"text/css\">*{stroke-linejoin: round; stroke-linecap: butt}</style>\n </defs>\n <g id=\"figure_1\">\n  <g id=\"patch_1\">\n   <path d=\"M 0 70.347393 \nL 349.2 70.347393 \nL 349.2 0 \nL 0 0 \nL 0 70.347393 \nz\n\" style=\"fill: none\"/>\n  </g>\n  <g id=\"axes_1\">\n   <g clip-path=\"url(#p573cbcf59d)\">\n    <image xlink:href=\"data:image/png;base64,\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\" id=\"image8af72aa7be\" transform=\"scale(1 -1)translate(0 -41)\" x=\"7.2\" y=\"-22.147393\" width=\"41\" height=\"41\"/>\n   </g>\n   <g id=\"text_1\">\n    <!-- 5 -->\n    <g transform=\"translate(23.797134 16.318125)scale(0.12 -0.12)\">\n     <defs>\n      <path id=\"DejaVuSans-35\" d=\"M 691 4666 \nL 3169 4666 \nL 3169 4134 \nL 1269 4134 \nL 1269 2991 \nQ 1406 3038 1543 3061 \nQ 1681 3084 1819 3084 \nQ 2600 3084 3056 2656 \nQ 3513 2228 3513 1497 \nQ 3513 744 3044 326 \nQ 2575 -91 1722 -91 \nQ 1428 -91 1123 -41 \nQ 819 9 494 109 \nL 494 744 \nQ 775 591 1075 516 \nQ 1375 441 1709 441 \nQ 2250 441 2565 725 \nQ 2881 1009 2881 1497 \nQ 2881 1984 2565 2268 \nQ 2250 2553 1709 2553 \nQ 1456 2553 1204 2497 \nQ 953 2441 691 2322 \nL 691 4666 \nz\n\" transform=\"scale(0.015625)\"/>\n     </defs>\n     <use xlink:href=\"#DejaVuSans-35\"/>\n    </g>\n   </g>\n  </g>\n  <g id=\"axes_2\">\n   <g clip-path=\"url(#p5ff54f35ab)\">\n    <image xlink:href=\"data:image/png;base64,\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\" id=\"image7d20ca29f5\" transform=\"scale(1 -1)translate(0 -41)\" x=\"56.195122\" y=\"-22.147393\" width=\"41\" height=\"41\"/>\n   </g>\n   <g id=\"text_2\">\n    <!-- 0 -->\n    <g transform=\"translate(72.792256 16.318125)scale(0.12 -0.12)\">\n     <defs>\n      <path id=\"DejaVuSans-30\" d=\"M 2034 4250 \nQ 1547 4250 1301 3770 \nQ 1056 3291 1056 2328 \nQ 1056 1369 1301 889 \nQ 1547 409 2034 409 \nQ 2525 409 2770 889 \nQ 3016 1369 3016 2328 \nQ 3016 3291 2770 3770 \nQ 2525 4250 2034 4250 \nz\nM 2034 4750 \nQ 2819 4750 3233 4129 \nQ 3647 3509 3647 2328 \nQ 3647 1150 3233 529 \nQ 2819 -91 2034 -91 \nQ 1250 -91 836 529 \nQ 422 1150 422 2328 \nQ 422 3509 836 4129 \nQ 1250 4750 2034 4750 \nz\n\" transform=\"scale(0.015625)\"/>\n     </defs>\n     <use xlink:href=\"#DejaVuSans-30\"/>\n    </g>\n   </g>\n  </g>\n  <g id=\"axes_3\">\n   <g clip-path=\"url(#pe66523c95a)\">\n    <image xlink:href=\"data:image/png;base64,\niVBORw0KGgoAAAANSUhEUgAAACkAAAApCAYAAACoYAD2AAAEjUlEQVR4nO2Yy28bVRSHvzszHr9fieOE5tGmSnm0EIooiBZVhVKEhEAIVIkFC2BbQP0L2MAWCbFgwxYJiUoIhHgsKlWpgEJfKRVFhaRx05Smju3YrhO/Zu74skioCHbjOLiGSvlJI40859z7zbn3nnPG4oA4qPifS/uvAdaiDch2ybjdE2g+H+V9O7j2hIGM2YTPm/R/NYtMTK99jNuHtyTh9ZDe6eLlZ77n8/0fUnyshIyHWhrj9kP6fLh3z7M7MLnuMTq2Jx21/qk6enAqykCWDISsteTXUciUEyT0q4mWL7bk1zFIXSxHbx31raORtJWBq6gQ0mnJr6MHJ+/4CPwhUcVyS753RMXpKGREL7EwaCD83pb8bg0pBGj66pcQS1cTKbVk02/kyD4scbqDLUE2rN16b5yZ10coDtu4QlZDR5ny0nVBELps4ZnJ40xMNQYsl6meGeLslmHe6DrFoceP8fUX+3H/G0ix637SDwSJ7Z9ldzhNyCgzV11Za7f5U8wMd3F68yCX0wGMbBxPphd3XmEuKMyCgydVRs8UoGrRc05y9qkhKtGT7PVN8KXnQAuIDSCTe0JoB+Y5uuMzJmyLSbuHscK9K2xeDI/TE5Xo/QJHKUoK8jWTj7N7OJnazJXZKIGLIaKTPvxTBfw/TDL16gD5LQajpoNjLm8TtbakWQdZc0HAtNEQPD/2Jt3HTeLfJlbYHN75FtKnoTRI7dKwIw56yEITin1bL/H+PUewntRJyxAJq4dPph7h8LZjRDSJLtwUN2lERoZxJhP/nH5tkEqAJpbfsGDgT0lkcm6Fje8XHUwXCIFZiGEHdKTHg9Lgp74HGYuP4rgVRC0CoTK9wUW6jEV8QqChUYkprP4I+hobo1WbXuEIhKxfEnlt9ua9KzGN62/PwgBCoEciVB/aSva+KHNPQ1YGqChFFIHVZ7Mw6CayxiVfNU96hhbI3W02HaROSuHkchhjP9P70Rn6X5nhgyMvcOjyQQDe23uE0ks30GMxhNH846AO0iwokrmlPLYpUqASa53xpmoOyraoFYv0/WgxMbaVaVliu5lkW3d6KamL5vWkzsKTV8iMF4nDXb4b2KHWer9byXsmQd8pm0m7mx5dMeTPofxehL4OyPD5DLHTGmmniqzpbQEEcOazeGZLfJMfJe0IwkaZ8kAQ4Wme1utf43qK0JUqv9thSnId+3EViVqNVDVIVen0mzkyoyYiEGgd0ikUcGVLJGUEq42RBBAVm/GrAySdEHGjQHHIQXnXE8m/YFXzxqFV1aavMvL2Ip9mHqVHL+AfWEC5m69Ww/OvFUq8M/4cbrfdVkhlWahkmuNnt7Mw6mbvQIILI6MEc5tW5N46noa/Vqq4fvNRvh7AvNHGllMpaouLeK/pXEz1EjFK2D4N5fOs6tYwkrViifg5STWsYS7K9kEug7qzitycn/HoIJqtmladhmGqFUv4T1yi62iCwHeX2gsJhK5I3Bmd1/pPID3NV6pxTao5OPPZdrPdlPfqApGuCO9eeJbeORvR5MNMbPzT2yZtQLZLG5Dt0h0B+Sd6xrOdyNIscAAAAABJRU5ErkJggg==\" id=\"imagec630efb323\" transform=\"scale(1 -1)translate(0 -41)\" x=\"105.190244\" y=\"-22.147393\" width=\"41\" height=\"41\"/>\n   </g>\n   <g id=\"text_3\">\n    <!-- 4 -->\n    <g transform=\"translate(121.787378 16.318125)scale(0.12 -0.12)\">\n     <defs>\n      <path id=\"DejaVuSans-34\" d=\"M 2419 4116 \nL 825 1625 \nL 2419 1625 \nL 2419 4116 \nz\nM 2253 4666 \nL 3047 4666 \nL 3047 1625 \nL 3713 1625 \nL 3713 1100 \nL 3047 1100 \nL 3047 0 \nL 2419 0 \nL 2419 1100 \nL 313 1100 \nL 313 1709 \nL 2253 4666 \nz\n\" transform=\"scale(0.015625)\"/>\n     </defs>\n     <use xlink:href=\"#DejaVuSans-34\"/>\n    </g>\n   </g>\n  </g>\n  <g id=\"axes_4\">\n   <g clip-path=\"url(#p63aeb75c7a)\">\n    <image xlink:href=\"data:image/png;base64,\niVBORw0KGgoAAAANSUhEUgAAACkAAAApCAYAAACoYAD2AAAD9UlEQVR4nO3YXUybVRzH8e85T59C19aWl0J5zSS8KMyRMTZDlvgyNbi5XegIJm4GkxlMvHBeuGSJF15p4t0S73ahiRe6zExRM6ND45wT1M1BQAijTmHgKIUNStdS+rx5AaKJMVDbppjwu3zy5P98cp5zcv7niEdFm8UGj8w2YD3ZRKYrtmReFqod6fUw0VFDtNLA5oujhXMo6lHwvtubKWOSSLsKhV5cj0xzouoC7a4Q52IeXokewZshICT5u6XbReSefJ7f+h1trmCmTP/8blJvCwGAIsxMWP41ySEtC6lbRM0c4pYOgFsuYnh0lJoqhC2p2bPuJIW0NA37gsZQtIxxfXlUm+wR2ndeYeRlH4qvMCPQpJBmeAF1YIzPh+s5M78LVShskSqd+Zc4sfdTjHIf0u3OLtLSdYy5Odx9uZwbb1gpIKm0OdjvHCVW5kB4soz8M/6TPXA+H80yMDHRLAOA23U2tNK8tAIhhR1HSViMaolVoFNItu77jdBOJ9LpTBsQUkA6pww6Rw7zc0LljqWhCkmb/yfC92nE9jaAVDYA8vIYjje9nJ67nzHdjkTS7prk2J5uZjpiyNyc7CONmVuoVwJ8fHUH791uWX3+zF1DvNHYhbm9GqWwILtITAMzGsPbp/LNZDWKEChC4JF26tQQwRYXZoU/y8gVaEl3kDvX8oiYiZWCkgLFggfniFS70mFMvZ80ro9T9WGUh986Tm88h7AZB6DZP0HUr2ArSX00U296TQPb2DT+nhgvDT7N+wv15AjJwYJ+oi0xbj5VtbwLpbDa09KZ68FplB+GUb7M44PJJkzL4oktYY7vOI9t3yyiuBDpyM0uEsDSNUq+vsVUv593wtswMTniHuNk/WkCnX7MhqrsI7EsuBmi7ILOqbOPEzETKEJQYYuxa88IoWY3yr01WUYCxtwcjovD3P3RPNc0BxEzQb608WrZZ8xv01moz88+EsCMRhETQTp6j64sIpVa1c6LD3xF8NDSf6qZkSOttRjH3eOga6qRX7QlTExaXUPsrx0ifnA3SnHRBkBqOoUDi/wa8HMm3EzM1Ki2SVq9gwR3K1j+AoRqXz0zZQmZQH7bR93bi3SdeoiAvtwpNdpneeHJL5ht8qJUlCIdjnVBM3qDIQM3KO4J8+yPR+mOVeKWCgfcg7Qeu0TgdQ96Uy3StfbWmVGkMR9GToawrjsZjftREJQrKq/5+jlcf5mlAvu6Dm6ZvwvSdRzTgsnFPGIrXXyyyTjSCC9Qfnac7z/ZzoGB51CFgiqUvy4Y5NpzMjOn+b/HNNAnf6foaikzho/H1EMIYTF2w0dNaAkroa1ZQmze9KYpm8h0ZROZrvwvkH8Aqa1lCSanqk8AAAAASUVORK5CYII=\" id=\"imageb4e751f5a1\" transform=\"scale(1 -1)translate(0 -41)\" x=\"154.185366\" y=\"-22.147393\" width=\"41\" height=\"41\"/>\n   </g>\n   <g id=\"text_4\">\n    <!-- 1 -->\n    <g transform=\"translate(170.7825 16.318125)scale(0.12 -0.12)\">\n     <defs>\n      <path id=\"DejaVuSans-31\" d=\"M 794 531 \nL 1825 531 \nL 1825 4091 \nL 703 3866 \nL 703 4441 \nL 1819 4666 \nL 2450 4666 \nL 2450 531 \nL 3481 531 \nL 3481 0 \nL 794 0 \nL 794 531 \nz\n\" transform=\"scale(0.015625)\"/>\n     </defs>\n     <use xlink:href=\"#DejaVuSans-31\"/>\n    </g>\n   </g>\n  </g>\n  <g id=\"axes_5\">\n   <g clip-path=\"url(#pc73f8dcc9e)\">\n    <image xlink:href=\"data:image/png;base64,\niVBORw0KGgoAAAANSUhEUgAAACkAAAApCAYAAACoYAD2AAAFaElEQVR4nO2YW2wUZRiGn38Oe267u9Bud+nSIwdLhHKwUkqtoBgxRgzxRBQSgtEb8AIlJt4pN0ZjjInRRI1eKAbjAY2JQSUBioIUsAnKqQiVdqFsd3tYtqW7Ozvze1HFGC/YbgfjBe/NXEzm/Z95v///5suIu8VDkv+5tBtlrHg85G+bw9AcF8PzLaK7Jb5jveT7L0/e6wbwITQNEY1waZkbdU2SfQ+8RmKhhgyUFuVne5KKy4WIRki9YfFC7ScscvbxxKn1BE+ZyL7+4jxtZkTUVzPYEuLpmg5MKXg72U7qmzAl3Snk+HhRnrZDXq0uZXCB5D7vBbozYb7pnkf4hxSiL47M54vytL3c8SU6L97/CR6hs+PwUup3msifT2LK4puIfUkKgTq7nkwkT7v7ArpQUdMqjospmAIg2AqpkJnpxxkcp0rzTZjnBCI9NmVr2yCFqpJc4KSufBBDmnbZAnYmKS28/RaJMZ9tln/JNkhpSXx9WVJpt12W12RfkpaJcqAL87L9kPa1IEXFWNmEPmPqB+Vf1nYZCUWQ96rouomCAMAImBi1oSl7Tw5SiInhQXdMXDUNFBXEBJSalZim8qexIFQ9RLzZe+1+sSq43EpTI/1tftY8uZ9aZ4K4UUbXlShHOmcTOCkoP5LC3TOMebqcl2bdyvPTuphZOkxXZTkIBabQlq4PKQSK00lslR/ZkmJT4DAh1UnK6qHFe5YPWgyO1kTpnleKY1hBnXuFMnVikFjq7+F4XaRouGsI15vMhaahTAvCTo1Xaz+nQddIWTlyUmIBHiFQEShCcDTrw5QKDmHS4soSy2d5Z2g5x1tcWNls0Z/HApJUEA4H1b4ktZoKwOrtzxE8OY4wJb8/4MEx5woP1h3nEf8RKlUTn9ABQVh1sKLkFB1rNxI81E++50JRkIUdHMtiJOcmZeUAGGmUjM1woZ3upWqvgffLUr76uI01u5/hqfNr6cy6MKVEFYJyNU1iERiRAEJ3FAV5/SSlhcxmiY36OZ/3EFRNVrb8wr7sfPx7BPqeLvyWiV8I1LkNnHm4nvdXjxMMf0elahJUJNVNl0j/HCHwmx8zPjBpyOvuyb90adsytOVDdC7ZwbCV4evRet7svpPwNgOrpw9p5CYOmc+HEvQTX1VFYF2MHbN34hEq7V0byHVMJ/LqwUlDFtwnI/vT8H2QR8/dy6ApaPOcY/PsffSuDZFrvxXF4wEpsUZHseIJKg4Nca6vgrOGG6fQ2TJrH94VA8jWJtRA4MZA0vkL4b2DnOhoYM/YLahI1pX04rtjgHizE+pmTuw5KbEyGcwTZ9BjDvaONmJhsa7kItsavuPy7R4oD06qwRdc7r9fS2VwYzOpu8b5tf1dTCnZNRbmrZ52yjZLZKwfK5MBwLhnCRfbdI5tfB1dqKStHPvHw7yy/XGm7f4NM5EobMlJAQJYJhUHk1TsctL46RaO5hw0OWNsrdvDqa3lJNYvRCyeh9AduM8mCB01eTl5G2cME4/Qud11ieRCyeiy2oKXLGoKMs+cxz+Sxp2M8GFLK49N/4l2dz8bWn/ko5Jm8u4yKpU5GJqCpQkuZvxctXR0ASHVjbsmTepCGYUOdZMv9z+eFoysX0pyVYYdre8x32GiC5WUlWFrbDUhZ5p61wAby34HQPmzcJt6V3DwYCP1z/70H0ACWrSKsflhBhbpBFovs6yih9aSs0S1ITwiT9z08VTneoxRByiShpo4sQNRph838XxxuLA1pgIIkO+L4TUMqkbCxKxKPotO59vKuSyujKEgiY358XV4cKYkUoG+WVFCx/J4z41Q6Fw05ST/C92Qv2p26yakXboJaZduQtqlm5B26Q8ZBfil2AucCQAAAABJRU5ErkJggg==\" id=\"imagef327394cd0\" transform=\"scale(1 -1)translate(0 -41)\" x=\"203.180488\" y=\"-22.147393\" width=\"41\" height=\"41\"/>\n   </g>\n   <g id=\"text_5\">\n    <!-- 9 -->\n    <g transform=\"translate(219.777622 16.318125)scale(0.12 -0.12)\">\n     <defs>\n      <path id=\"DejaVuSans-39\" d=\"M 703 97 \nL 703 672 \nQ 941 559 1184 500 \nQ 1428 441 1663 441 \nQ 2288 441 2617 861 \nQ 2947 1281 2994 2138 \nQ 2813 1869 2534 1725 \nQ 2256 1581 1919 1581 \nQ 1219 1581 811 2004 \nQ 403 2428 403 3163 \nQ 403 3881 828 4315 \nQ 1253 4750 1959 4750 \nQ 2769 4750 3195 4129 \nQ 3622 3509 3622 2328 \nQ 3622 1225 3098 567 \nQ 2575 -91 1691 -91 \nQ 1453 -91 1209 -44 \nQ 966 3 703 97 \nz\nM 1959 2075 \nQ 2384 2075 2632 2365 \nQ 2881 2656 2881 3163 \nQ 2881 3666 2632 3958 \nQ 2384 4250 1959 4250 \nQ 1534 4250 1286 3958 \nQ 1038 3666 1038 3163 \nQ 1038 2656 1286 2365 \nQ 1534 2075 1959 2075 \nz\n\" transform=\"scale(0.015625)\"/>\n     </defs>\n     <use xlink:href=\"#DejaVuSans-39\"/>\n    </g>\n   </g>\n  </g>\n  <g id=\"axes_6\">\n   <g clip-path=\"url(#pcc81fc7ead)\">\n    <image xlink:href=\"data:image/png;base64,\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\" id=\"image7cefab0fce\" transform=\"scale(1 -1)translate(0 -41)\" x=\"252.17561\" y=\"-22.147393\" width=\"41\" height=\"41\"/>\n   </g>\n   <g id=\"text_6\">\n    <!-- 2 -->\n    <g transform=\"translate(268.772744 16.318125)scale(0.12 -0.12)\">\n     <defs>\n      <path id=\"DejaVuSans-32\" d=\"M 1228 531 \nL 3431 531 \nL 3431 0 \nL 469 0 \nL 469 531 \nQ 828 903 1448 1529 \nQ 2069 2156 2228 2338 \nQ 2531 2678 2651 2914 \nQ 2772 3150 2772 3378 \nQ 2772 3750 2511 3984 \nQ 2250 4219 1831 4219 \nQ 1534 4219 1204 4116 \nQ 875 4013 500 3803 \nL 500 4441 \nQ 881 4594 1212 4672 \nQ 1544 4750 1819 4750 \nQ 2544 4750 2975 4387 \nQ 3406 4025 3406 3419 \nQ 3406 3131 3298 2873 \nQ 3191 2616 2906 2266 \nQ 2828 2175 2409 1742 \nQ 1991 1309 1228 531 \nz\n\" transform=\"scale(0.015625)\"/>\n     </defs>\n     <use xlink:href=\"#DejaVuSans-32\"/>\n    </g>\n   </g>\n  </g>\n  <g id=\"axes_7\">\n   <g clip-path=\"url(#p5271b42d50)\">\n    <image xlink:href=\"data:image/png;base64,\niVBORw0KGgoAAAANSUhEUgAAACkAAAApCAYAAACoYAD2AAACz0lEQVR4nO2YzWoTURiGn3MmM0lMQmMywYK2RmmtaKFUBBEXgtadCIIgXoOb3oqgC/EG9ALEheBKwY3aKrRWtD/WFrW1NUnzNz/nuEhUqgiaOSUG+i5n8Z5nvvOd+d4zYkJc0fznkt0G+BvtQppST0DGjDtKC+nYiEMDaCeGjrXqID+soTa+on3vny2NQ1r5HMGR/YzfnOJy3zNGHR+J5OTtSYr3PhG+edd9SNws5WKCS33PGbIbxEUCAC06tzTek76bplyUDNt1MtIx4mkc8stogsMXFogLc9bGIZtZwTl3DhsL2ba3hRXJ01xPCoE1dIh6v+JEchFLtJqwqX0e1DI4JRC1RkfWxiopYjbLl/s5NrbE6UQTAIViKdBMPrlGYbpB8GGly5CWpHog5HB63ZTlD5nrScti3/A6J9ML2x5XdYz4QpxYqdmxtbGeFHaMG0fvMu5Ivr+7QrEa7GXgYRW5/JGw25AAFhqJQNGKqLc2R7gze4bi9FvCWq1j3x0NGM/Lg/hLKVS9AbrzbG20kmG7igoFwJvNAqllCVpF8u2JqNYTkOZTEPwYh+b8DMpBIYmQyf4go5DhDgCCoe2WiQS4OYBtp9uUjEB6Z46zeNGmYHlA0oTlNkXebsvNszES5/Sp12TaQbekPM6/ukr1cYHCy2gfciOQIpnEy8JEboa4aG1MRWk+T+0jPxsQn1+LukR0SF2v45ThSWkYvx0hqjpGdhbSc5sES8vdh1SlCsk1xdPVgzR/HX/KzL+w6JUMQ2Sg8bwdmQuAAUiZ2kOzT1J0N3ZsxkaHdHNsDQiuDz5ij7BNMP2+RmQHz8dqwNtmPwAl1WDed3G2FMLzI9uDAchgZZX8TMCtF2cpKY8ZP8X9jTHSi1vor2UTjAgTv6NlJoN0c4T5DIQa2fTR8+9Rng+q05vNTxk5kqpSQVUq0L4oRsfarp4IvbuQptQTkN8Aj7Ls5zJuplEAAAAASUVORK5CYII=\" id=\"imageb16167ef13\" transform=\"scale(1 -1)translate(0 -41)\" x=\"301.170732\" y=\"-22.147393\" width=\"41\" height=\"41\"/>\n   </g>\n   <g id=\"text_7\">\n    <!-- 1 -->\n    <g transform=\"translate(317.767866 16.318125)scale(0.12 -0.12)\">\n     <use xlink:href=\"#DejaVuSans-31\"/>\n    </g>\n   </g>\n  </g>\n </g>\n <defs>\n  <clipPath id=\"p573cbcf59d\">\n   <rect x=\"7.2\" y=\"22.318125\" width=\"40.829268\" height=\"40.829268\"/>\n  </clipPath>\n  <clipPath id=\"p5ff54f35ab\">\n   <rect x=\"56.195122\" y=\"22.318125\" width=\"40.829268\" height=\"40.829268\"/>\n  </clipPath>\n  <clipPath id=\"pe66523c95a\">\n   <rect x=\"105.190244\" y=\"22.318125\" width=\"40.829268\" height=\"40.829268\"/>\n  </clipPath>\n  <clipPath id=\"p63aeb75c7a\">\n   <rect x=\"154.185366\" y=\"22.318125\" width=\"40.829268\" height=\"40.829268\"/>\n  </clipPath>\n  <clipPath id=\"pc73f8dcc9e\">\n   <rect x=\"203.180488\" y=\"22.318125\" width=\"40.829268\" height=\"40.829268\"/>\n  </clipPath>\n  <clipPath id=\"pcc81fc7ead\">\n   <rect x=\"252.17561\" y=\"22.318125\" width=\"40.829268\" height=\"40.829268\"/>\n  </clipPath>\n  <clipPath id=\"p5271b42d50\">\n   <rect x=\"301.170732\" y=\"22.318125\" width=\"40.829268\" height=\"40.829268\"/>\n  </clipPath>\n </defs>\n</svg>\n",
      "image/png": "[encoded data removed]"
     },
     "metadata": {
      "needs_background": "light"
     }
    }
   ],
   "source": [
    "\n",
    "import matplotlib.pyplot as plt\n",
    "import numpy as np\n",
    "\n",
    "transform=transforms.Compose([\n",
    "        transforms.ToTensor(),\n",
    "        transforms.Normalize((0.1307,), (0.3081,)) \n",
    "        ])\n",
    "\n",
    "dataset1 = datasets.MNIST('../data', train=True, download=True,\n",
    "                       transform=transform)\n",
    "dataset2 = datasets.MNIST('../data', train=False,\n",
    "                       transform=transform)\n",
    "fig,ax = plt.subplots(1,7)\n",
    "for i in range(7):\n",
    "    ax[i].imshow(dataset1[i][0].view(28,28))\n",
    "    ax[i].set_title(dataset1[i][1])\n",
    "    ax[i].axis('off')\n",
    "\n",
    "import io\n",
    "import base64\n",
    "my_stringIObytes = io.BytesIO()\n",
    "plt.savefig(my_stringIObytes, format='jpg')\n",
    "my_stringIObytes.seek(0)\n",
    "my_base64_jpgData = base64.b64encode(my_stringIObytes.read())\n",
    "jpgStr = my_base64_jpgData.decode(\"utf-8\")\n",
    "\n",
    "import requests\n",
    "url = 'https://pdumhe-ahmwgf-5000.app.myide.io/image'\n",
    "myobj = {'image_data': jpgStr}\n",
    "x = requests.post(url, json = myobj)"
   ]
  },
  {
   "cell_type": "code",
   "execution_count": 7,
   "metadata": {},
   "outputs": [],
   "source": [
    "def start_trainning():\n",
    "    # 基本参数\n",
    "    device = \"cpu\"\n",
    "    seed = 1.0\n",
    "    epochs = 2\n",
    "    learning_rate = 1.0\n",
    "    lr_decay_gamma = 0.7\n",
    "\n",
    "    torch.manual_seed(seed)\n",
    "\n",
    "    train_kwargs = {'batch_size': 64}\n",
    "    test_kwargs = {'batch_size': 1000}\n",
    "\n",
    "    # normalize images with mean 0.1307 and std 0.3081\n",
    "    transform=transforms.Compose([\n",
    "        transforms.ToTensor(),\n",
    "        transforms.Normalize((0.1307,), (0.3081,)) \n",
    "        ])\n",
    "\n",
    "    # 读取数据集，dataset1是训练数据，dataset2是测试数据\n",
    "    dataset1 = datasets.MNIST('../data', train=True, download=True,\n",
    "                       transform=transform)\n",
    "    dataset2 = datasets.MNIST('../data', train=False,\n",
    "                       transform=transform)\n",
    "    train_loader = torch.utils.data.DataLoader(dataset1,**train_kwargs)\n",
    "    test_loader = torch.utils.data.DataLoader(dataset2, **test_kwargs)\n",
    "\n",
    "    # 初始化模型、optimizer等训练属性\n",
    "    model = Net().to(device)\n",
    "    optimizer = optim.Adadelta(model.parameters(), lr=learning_rate)\n",
    "    scheduler = StepLR(optimizer, step_size=1, gamma=lr_decay_gamma)\n",
    "\n",
    "    # 开始训练\n",
    "    for epoch in range(1, epochs):\n",
    "        train(model, device, train_loader, optimizer, epoch)\n",
    "        test(model, device, test_loader)\n",
    "        scheduler.step()\n",
    "\n",
    "    # 保存模型\n",
    "    torch.save(model, \"mnist_cnn.pt\")"
   ]
  },
  {
   "source": [
    "现在你可以选择下面代码，执行start_training() 开始训练。 你也可以在命令行执行`python test.py`"
   ],
   "cell_type": "markdown",
   "metadata": {}
  },
  {
   "cell_type": "code",
   "execution_count": 8,
   "metadata": {},
   "outputs": [
    {
     "output_type": "stream",
     "name": "stdout",
     "text": [
      "Train Epoch: 1 [0/60000 (0%)]\tLoss: 2.305400\n",
      "Train Epoch: 1 [640/60000 (1%)]\tLoss: 1.359776\n",
      "Train Epoch: 1 [1280/60000 (2%)]\tLoss: 0.842884\n",
      "Train Epoch: 1 [1920/60000 (3%)]\tLoss: 0.587047\n",
      "Train Epoch: 1 [2560/60000 (4%)]\tLoss: 0.368678\n",
      "Train Epoch: 1 [3200/60000 (5%)]\tLoss: 0.468111\n",
      "Train Epoch: 1 [3840/60000 (6%)]\tLoss: 0.264334\n",
      "Train Epoch: 1 [4480/60000 (7%)]\tLoss: 0.288218\n",
      "Train Epoch: 1 [5120/60000 (9%)]\tLoss: 0.588464\n",
      "Train Epoch: 1 [5760/60000 (10%)]\tLoss: 0.225416\n",
      "Train Epoch: 1 [6400/60000 (11%)]\tLoss: 0.248743\n",
      "Train Epoch: 1 [7040/60000 (12%)]\tLoss: 0.346687\n",
      "Train Epoch: 1 [7680/60000 (13%)]\tLoss: 0.194711\n",
      "Train Epoch: 1 [8320/60000 (14%)]\tLoss: 0.223726\n"
     ]
    }
   ],
   "source": [
    "start_trainning()"
   ]
  },
  {
   "cell_type": "code",
   "execution_count": null,
   "metadata": {},
   "outputs": [],
   "source": []
  }
 ]
}